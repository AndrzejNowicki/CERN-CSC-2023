{
 "cells": [
  {
   "cell_type": "markdown",
   "metadata": {},
   "source": [
    "# Interactive Plotting with Altair\n",
    "\n",
    "Static visualizations are good, but they definitely have their limitations.\n",
    "\n",
    "There have been a number of interesting developments in recent years, in particular Bokeh, plot.ly, and most recently Altair.\n",
    "\n",
    "Whilst I like plot.ly and Bokeh, they can be complicated to get, but are powerful when you know how to navigate the APIs. Altair is more declarative, by that I mean that the mapping from data to visual is more natural. There is a specific grammar for the composition of charts, and with this you can go far quickly.\n",
    "\n",
    "**One caveat however is a default limit of 5000 rows of data to visualize. But there are ways to increase :)**\n",
    "\n",
    "```\n",
    "alt.data_transformers.enable('default', max_rows=None)\n",
    "```"
   ]
  },
  {
   "cell_type": "code",
   "execution_count": null,
   "metadata": {},
   "outputs": [],
   "source": [
    "import altair as alt\n",
    "import pandas as pd\n",
    "\n",
    "alt.renderers.enable('notebook')"
   ]
  },
  {
   "cell_type": "code",
   "execution_count": null,
   "metadata": {},
   "outputs": [],
   "source": [
    "alt.data_transformers.enable('default', max_rows=None)"
   ]
  },
  {
   "cell_type": "code",
   "execution_count": null,
   "metadata": {},
   "outputs": [],
   "source": [
    "fifa = pd.read_csv('../data/fifa_player_data.csv')"
   ]
  },
  {
   "cell_type": "code",
   "execution_count": null,
   "metadata": {},
   "outputs": [],
   "source": [
    "fifa.sample(10)"
   ]
  },
  {
   "cell_type": "markdown",
   "metadata": {},
   "source": [
    "## Looking at 1D distributions"
   ]
  },
  {
   "cell_type": "markdown",
   "metadata": {},
   "source": [
    "Let's take a basic set of data, say 1D to start off. I have the heights of all the footballers, and I want to plot them all in a line."
   ]
  },
  {
   "cell_type": "code",
   "execution_count": null,
   "metadata": {},
   "outputs": [],
   "source": [
    "alt.Chart(fifa.sample(1000)).mark_point().encode(\n",
    "    x='Acceleration'\n",
    ")"
   ]
  },
  {
   "cell_type": "code",
   "execution_count": null,
   "metadata": {},
   "outputs": [],
   "source": [
    "alt.Chart(fifa.sample(1000)).mark_point().encode(\n",
    "    x='average(Acceleration)',\n",
    "    y='Nationality'\n",
    ")"
   ]
  },
  {
   "cell_type": "code",
   "execution_count": null,
   "metadata": {},
   "outputs": [],
   "source": [
    "alt.Chart(fifa.sample(1000)).mark_bar().encode(\n",
    "    x='Nationality',\n",
    "    y='average(Acceleration)'\n",
    ")"
   ]
  },
  {
   "cell_type": "code",
   "execution_count": null,
   "metadata": {},
   "outputs": [],
   "source": [
    "alt.Chart(fifa.sample(1000)).mark_point().encode(\n",
    "    x='Nationality',\n",
    "    y='average(Acceleration)',\n",
    "    size='count()',\n",
    "    color='Club_Position',\n",
    "    tooltip=['Club_Position', 'average(Acceleration)', 'count()']\n",
    ").interactive()"
   ]
  },
  {
   "cell_type": "markdown",
   "metadata": {},
   "source": [
    "## Line Charts"
   ]
  },
  {
   "cell_type": "code",
   "execution_count": null,
   "metadata": {},
   "outputs": [],
   "source": [
    "import numpy as np\n",
    "\n",
    "player_speed = pd.DataFrame()\n",
    "\n",
    "player_speed['messi'] = np.random.poisson(10, 90) \n",
    "player_speed['ronaldo'] = np.random.poisson(8, 90)\n",
    "# player_speed['mbappe'] = np.random.randn(200)\n",
    "player_speed['martins'] = np.random.poisson(5,90)"
   ]
  },
  {
   "cell_type": "code",
   "execution_count": null,
   "metadata": {},
   "outputs": [],
   "source": [
    "player_speed = player_speed.stack().reset_index().rename(columns={'level_0': 'time','level_1': 'player', 0:'activity'})"
   ]
  },
  {
   "cell_type": "code",
   "execution_count": null,
   "metadata": {},
   "outputs": [],
   "source": [
    "import altair as alt\n",
    "from vega_datasets import data\n",
    "\n",
    "\n",
    "alt.Chart(player_speed).mark_line().encode(\n",
    "    x='time',\n",
    "    y='activity',\n",
    "    color='player',\n",
    "    tooltip=['time', 'activity', 'player']\n",
    ").properties(\n",
    "    width=600,\n",
    "    height=150\n",
    ")\n"
   ]
  },
  {
   "cell_type": "code",
   "execution_count": null,
   "metadata": {},
   "outputs": [],
   "source": [
    "stocks = data.stocks()\n",
    "\n",
    "highlight = alt.selection(type='single', on='mouseover',\n",
    "                          fields=['player'], nearest=True)\n",
    "\n",
    "base = alt.Chart(player_speed).encode(\n",
    "    x='time',\n",
    "    y='activity',\n",
    "    color='player'\n",
    ")\n",
    "\n",
    "points = base.mark_circle().encode(\n",
    "    opacity=alt.value(0)\n",
    ").add_selection(\n",
    "    highlight\n",
    ").properties(\n",
    "    width=600\n",
    ")\n",
    "\n",
    "lines = base.mark_line().encode(\n",
    "    size=alt.condition(~highlight, alt.value(1), alt.value(3))\n",
    ")\n",
    "\n",
    "points + lines"
   ]
  },
  {
   "cell_type": "markdown",
   "metadata": {},
   "source": [
    "## Scatter Charts"
   ]
  },
  {
   "cell_type": "code",
   "execution_count": null,
   "metadata": {},
   "outputs": [],
   "source": [
    "# load a simple dataset as a pandas DataFrame\n",
    "from vega_datasets import data\n",
    "cars = data.cars()\n",
    "\n",
    "chart = alt.Chart(fifa.query('Club_Position != \"Sub\"').sample(1000)).mark_circle().encode(\n",
    "    x='Acceleration',\n",
    "    y='Speed',\n",
    "    color='Club_Position',\n",
    "    tooltip=['Acceleration', 'Speed', 'Name', 'Club_Position']\n",
    ").interactive()\n",
    "\n",
    "chart.display()"
   ]
  },
  {
   "cell_type": "code",
   "execution_count": null,
   "metadata": {},
   "outputs": [],
   "source": [
    "import altair as alt\n",
    "from vega_datasets import data\n",
    "iris = data.iris()\n",
    "\n",
    "brush = alt.selection_interval()\n",
    "\n",
    "alt.Chart(fifa.query('Nationality==\"Israel\"')).mark_circle().encode(\n",
    "    alt.X(alt.repeat(\"column\"), type='quantitative'),\n",
    "    alt.Y(alt.repeat(\"row\"), type='quantitative'),\n",
    "     color=alt.condition(brush, 'Club_Position:N', alt.value('lightgray')),\n",
    "        tooltip=['Name', 'Club_Position']\n",
    ").properties(\n",
    "    width=200,\n",
    "    height=200\n",
    ").add_selection(\n",
    "    brush\n",
    ").repeat(\n",
    "    row=['Acceleration', 'Speed'],\n",
    "    column=['Finishing', 'Strength']\n",
    ")"
   ]
  },
  {
   "cell_type": "markdown",
   "metadata": {},
   "source": [
    "## Histograms\n",
    "\n",
    "### One Group"
   ]
  },
  {
   "cell_type": "code",
   "execution_count": null,
   "metadata": {},
   "outputs": [],
   "source": [
    "alt.Chart(fifa[fifa.Club_Position.isin(['ST', 'CB'])]).mark_area(\n",
    "    opacity=0.3,\n",
    "    interpolate='step'\n",
    ").encode(\n",
    "    alt.X('Reactions', bin=alt.Bin(maxbins=10)),\n",
    "    alt.Y('count()', stack=None, axis=alt.Axis(title='Number of Players')),\n",
    "    tooltip=['Club_Position']\n",
    ")"
   ]
  },
  {
   "cell_type": "markdown",
   "metadata": {},
   "source": [
    "### Multiple Groups"
   ]
  },
  {
   "cell_type": "code",
   "execution_count": null,
   "metadata": {},
   "outputs": [],
   "source": [
    "alt.Chart(fifa[fifa.Club_Position.isin(['ST', 'CB'])]).mark_area(\n",
    "    opacity=0.3,\n",
    "    interpolate='step'\n",
    ").encode(\n",
    "    alt.X('Short_Pass', bin=alt.Bin(maxbins=25)),\n",
    "    alt.Y('count()', stack=None, axis=alt.Axis(title='Number of Players')),\n",
    "    alt.Color(\n",
    "        'Club_Position',\n",
    "        scale=alt.Scale(range=['#0000ff', '#008000', '#ff0000'])\n",
    "    ),\n",
    "    tooltip=['Club_Position']\n",
    ")"
   ]
  },
  {
   "cell_type": "markdown",
   "metadata": {
    "collapsed": true
   },
   "source": [
    "## Building Cross-Linked Plots\n",
    "\n",
    "It's often more interesting to be able to interrogate your date interactively, seeing how distributions change based on some selection for example.\n",
    "\n",
    "Luckily, we can do this directly in our notebook without having to go to a different tool base, and it's rather easy.\n",
    "\n",
    "Key here are selections and transform filters.\n",
    "\n",
    "We add selections to a plot, and that selection can be applied to some other plot with a transform_filter."
   ]
  },
  {
   "cell_type": "code",
   "execution_count": null,
   "metadata": {},
   "outputs": [],
   "source": [
    "brush = alt.selection(type='interval')\n",
    "\n",
    "first_chart = alt.Chart(fifa.sample(1000)).mark_bar().encode(\n",
    "    y='count(Nationality)',\n",
    "    x=alt.X('Nationality',\n",
    "        sort=alt.SortField(field='count', order='descending', op='max')\n",
    "    ),\n",
    "    color=alt.condition(brush, alt.value('blue'), alt.value('lightgray')),\n",
    ").add_selection(\n",
    "    brush\n",
    ")\n",
    "\n",
    "second_chart = alt.Chart(fifa.sample(1000)).mark_bar().encode(\n",
    "    y='count(Acceleration)',\n",
    "    x='Acceleration'\n",
    ").transform_filter(\n",
    "    brush\n",
    ")"
   ]
  },
  {
   "cell_type": "code",
   "execution_count": null,
   "metadata": {
    "scrolled": false
   },
   "outputs": [],
   "source": [
    "brush = alt.selection(type='interval')\n",
    "nationality_select = alt.selection(type='single', fields=['Nationality'])\n",
    "club_select = alt.selection(type='single', fields=['Club_Position'])\n",
    "\n",
    "points = alt.Chart().mark_circle().encode(\n",
    "    x='Acceleration',\n",
    "    y='Speed',\n",
    "    color=alt.condition(brush, 'Nationality:N', alt.value('lightgray')),\n",
    "    tooltip=['Club_Position', 'Name']\n",
    ").add_selection(\n",
    "    brush\n",
    ").transform_filter(\n",
    "    nationality_select\n",
    ")\n",
    "\n",
    "bars_nationality = alt.Chart().mark_bar().encode(\n",
    "    color='Nationality',\n",
    "    x='count(Nationality)',\n",
    "    y=alt.Y('Nationality',\n",
    "        sort=alt.SortField(field='count', order='descending', op='max')\n",
    "    )\n",
    ").properties(\n",
    "    selection=nationality_select\n",
    ").transform_filter(\n",
    "    brush\n",
    ")\n",
    "\n",
    "bars_club_position = alt.Chart().mark_bar().encode(\n",
    "    color='Club_Position',\n",
    "    x='count(Club_Position)',\n",
    "    y=alt.Y('Club_Position',\n",
    "        sort=alt.SortField(field='count', order='descending', op='max')\n",
    "    )\n",
    ").properties(\n",
    "    selection=club_select\n",
    ").transform_filter(\n",
    "    brush\n",
    ")\n",
    "\n",
    "alt.vconcat(points, bars_nationality, bars_club_position, data=fifa.sample(2000))"
   ]
  }
 ],
 "metadata": {
  "hide_input": false,
  "kernelspec": {
   "display_name": "ffachurn_py3",
   "language": "python",
   "name": "ffachurn_py3"
  },
  "language_info": {
   "codemirror_mode": {
    "name": "ipython",
    "version": 3
   },
   "file_extension": ".py",
   "mimetype": "text/x-python",
   "name": "python",
   "nbconvert_exporter": "python",
   "pygments_lexer": "ipython3",
   "version": "3.5.2"
  },
  "toc": {
   "colors": {
    "hover_highlight": "#DAA520",
    "running_highlight": "#FF0000",
    "selected_highlight": "#FFD700"
   },
   "moveMenuLeft": true,
   "nav_menu": {},
   "navigate_menu": true,
   "number_sections": true,
   "sideBar": true,
   "skip_h1_title": false,
   "threshold": 4,
   "toc_cell": false,
   "toc_position": {},
   "toc_section_display": "block",
   "toc_window_display": true
  }
 },
 "nbformat": 4,
 "nbformat_minor": 2
}
