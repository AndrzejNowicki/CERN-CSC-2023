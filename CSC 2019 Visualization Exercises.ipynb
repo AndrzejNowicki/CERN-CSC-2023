{
 "cells": [
  {
   "cell_type": "markdown",
   "metadata": {},
   "source": [
    "# Visualizing Data with Pandas, Matplotlib, and Seaborn\n",
    "\n",
    "[Matplotlib](http://matplotlib.org) is basic plotting library for Python inspired by Matlab. \n",
    "[Seaborn](http://stanford.edu/~mwaskom/software/seaborn) is built on top of matplotlib with integrated analysis and specialized plots.\n",
    "\n",
    "Also see [the full gallery of Seaborn](http://stanford.edu/~mwaskom/software/seaborn/examples/index.html) or [Matplotlib](http://matplotlib.org/gallery.html).\n",
    "\n",
    "We're going to be using data on football player attributes from FIFA 2017. Why? Well, because it's fun, it's highly multi-dimensional, and we can process the data in an infinite number of ways. The [dataset](https://www.kaggle.com/artimous/complete-fifa-2017-player-dataset-global) has some other parts too, in case you're interested in continuing poking around this data. \n"
   ]
  },
  {
   "cell_type": "code",
   "execution_count": null,
   "metadata": {
    "ExecuteTime": {
     "end_time": "2018-10-09T21:30:54.922024Z",
     "start_time": "2018-10-09T21:30:53.637120Z"
    }
   },
   "outputs": [],
   "source": [
    "#disable some annoying warning\n",
    "import warnings\n",
    "warnings.filterwarnings('ignore', category=FutureWarning)\n",
    "\n",
    "#plots the figures in place instead of a new window\n",
    "%matplotlib inline\n",
    "\n",
    "import matplotlib.pyplot as plt\n",
    "import seaborn as sns\n",
    "\n",
    "import pandas as pd\n",
    "from pandas.tools.plotting import radviz, parallel_coordinates, andrews_curves\n",
    "import numpy as np"
   ]
  },
  {
   "cell_type": "markdown",
   "metadata": {},
   "source": [
    "## Load Data\n",
    "\n",
    "Here we're going to use the gapminder data, from the famous work of Hans Rosling. \n"
   ]
  },
  {
   "cell_type": "code",
   "execution_count": null,
   "metadata": {
    "ExecuteTime": {
     "end_time": "2018-10-09T22:38:26.143712Z",
     "start_time": "2018-10-09T22:38:25.971028Z"
    }
   },
   "outputs": [],
   "source": [
    "fifa = pd.read_csv('data/fifa_player_data.csv.gz', compression='gzip')"
   ]
  },
  {
   "cell_type": "code",
   "execution_count": null,
   "metadata": {
    "ExecuteTime": {
     "end_time": "2018-10-09T22:38:26.532233Z",
     "start_time": "2018-10-09T22:38:26.526535Z"
    },
    "scrolled": true
   },
   "outputs": [],
   "source": [
    "sorted(list(fifa.columns))"
   ]
  },
  {
   "cell_type": "code",
   "execution_count": null,
   "metadata": {
    "ExecuteTime": {
     "end_time": "2018-10-09T22:38:28.722908Z",
     "start_time": "2018-10-09T22:38:28.699614Z"
    }
   },
   "outputs": [],
   "source": [
    "fifa.head(5)"
   ]
  },
  {
   "cell_type": "code",
   "execution_count": null,
   "metadata": {
    "ExecuteTime": {
     "end_time": "2018-10-09T22:38:29.056048Z",
     "start_time": "2018-10-09T22:38:29.016301Z"
    }
   },
   "outputs": [],
   "source": [
    "# We can also sort the data in any number of ways\n",
    "fifa.sort_values('Acceleration', ascending=False).head(5)"
   ]
  },
  {
   "cell_type": "code",
   "execution_count": null,
   "metadata": {
    "ExecuteTime": {
     "end_time": "2018-10-09T22:38:29.677340Z",
     "start_time": "2018-10-09T22:38:29.644801Z"
    }
   },
   "outputs": [],
   "source": [
    "# We can also make the sort work on numerous values\n",
    "fifa.sort_values(['Acceleration', 'Curve'], ascending=False).head(5)"
   ]
  },
  {
   "cell_type": "code",
   "execution_count": null,
   "metadata": {
    "ExecuteTime": {
     "end_time": "2018-10-09T22:38:30.039294Z",
     "start_time": "2018-10-09T22:38:30.011200Z"
    }
   },
   "outputs": [],
   "source": [
    "# We can also query our data\n",
    "fifa.query('Club_Position == \"ST\"').head()"
   ]
  },
  {
   "cell_type": "markdown",
   "metadata": {},
   "source": [
    "## Grouping\n",
    "\n",
    "We can even group items much like we'd do in SQL, perform calculations on some aggregated property, then plot values, just to get an idea of larger scale trends"
   ]
  },
  {
   "cell_type": "code",
   "execution_count": null,
   "metadata": {
    "ExecuteTime": {
     "end_time": "2018-10-09T21:31:04.144750Z",
     "start_time": "2018-10-09T21:31:02.424729Z"
    },
    "scrolled": true
   },
   "outputs": [],
   "source": [
    "fifa.groupby('Nationality').agg({'Ball_Control':'max'}).sort_values('Ball_Control', ascending=False).plot(kind='bar', figsize=(30, 5))"
   ]
  },
  {
   "cell_type": "markdown",
   "metadata": {},
   "source": [
    "<p style=\"color:#f1c40f; font-size: 2em\">Exercise 1</p>\n",
    "\n",
    "<p style=\"background: #f1c40f; padding: 10px; color: #2c3e50\">Which <strong>Club_Position</strong> has the players with the highest average <strong>Speed</strong>?</p>"
   ]
  },
  {
   "cell_type": "code",
   "execution_count": null,
   "metadata": {},
   "outputs": [],
   "source": [
    "# Answer 1"
   ]
  },
  {
   "cell_type": "markdown",
   "metadata": {},
   "source": [
    "<p style=\"background: #f1c40f; padding: 10px; color: #2c3e50\">Which <strong>Club_Position</strong> has the players with the highest average <strong>Speed</strong> variance?</p>"
   ]
  },
  {
   "cell_type": "code",
   "execution_count": null,
   "metadata": {},
   "outputs": [],
   "source": [
    "# Answer 2"
   ]
  },
  {
   "cell_type": "markdown",
   "metadata": {},
   "source": [
    "<p style=\"background: #f1c40f; padding: 10px; color: #2c3e50\">Which <strong>Club</strong> has the players with the highest average <strong>Speed</strong>?</p>"
   ]
  },
  {
   "cell_type": "code",
   "execution_count": null,
   "metadata": {},
   "outputs": [],
   "source": [
    "# Answer 3"
   ]
  },
  {
   "cell_type": "markdown",
   "metadata": {},
   "source": [
    "### Histograms"
   ]
  },
  {
   "cell_type": "code",
   "execution_count": null,
   "metadata": {
    "ExecuteTime": {
     "end_time": "2018-10-09T21:33:11.787876Z",
     "start_time": "2018-10-09T21:33:07.049368Z"
    }
   },
   "outputs": [],
   "source": [
    "# We can plot the distributions for all of our features, just to see how everything looks\n",
    "fifa.hist(bins=20, figsize=(20,20));"
   ]
  },
  {
   "cell_type": "code",
   "execution_count": null,
   "metadata": {
    "ExecuteTime": {
     "end_time": "2017-09-01T09:08:47.353146+02:00",
     "start_time": "2017-09-01T09:08:47.057376"
    }
   },
   "outputs": [],
   "source": [
    "# We can plot the distribution for just one of our features, and also change the number of bins.\n",
    "fifa.Penalties.plot(kind='hist', bins=20)"
   ]
  },
  {
   "cell_type": "code",
   "execution_count": null,
   "metadata": {
    "ExecuteTime": {
     "end_time": "2017-09-01T08:57:29.784024+02:00",
     "start_time": "2017-09-01T08:57:29.233693"
    }
   },
   "outputs": [],
   "source": [
    "plt.figure(figsize=(20,6))\n",
    "sns.countplot('Club_Position', data=fifa, palette='viridis')"
   ]
  },
  {
   "cell_type": "markdown",
   "metadata": {},
   "source": [
    "This data is a at first glance at little strange. Unfortunately, in FIFA, many players in a squad will not be in the first team. Therefore we have many players classified as 'Sub' or 'Res'. We also have some CF (Centre Forwards) but this is the same as a 'ST' (Striker). \n",
    "\n",
    "** Many of our analyses may not care about the position, but in the ones that do, we should ideally clean our data. **"
   ]
  },
  {
   "cell_type": "code",
   "execution_count": null,
   "metadata": {
    "ExecuteTime": {
     "end_time": "2017-09-01T08:58:45.166603+02:00",
     "start_time": "2017-09-01T08:58:43.042070"
    }
   },
   "outputs": [],
   "source": [
    "fig = plt.figure(figsize=(30, 7))\n",
    "g = sns.countplot('Nationality', data=fifa, palette=sns.color_palette(['#2ecc71']), order=fifa.groupby('Nationality').size().sort_values(ascending=False).index)\n",
    "# This rotates the labels, otherwise, we can't see anything!\n",
    "plt.setp(g.get_xticklabels(), rotation=90)\n",
    "g.figure.get_axes()[0].set_yscale('log')"
   ]
  },
  {
   "cell_type": "code",
   "execution_count": null,
   "metadata": {
    "ExecuteTime": {
     "end_time": "2017-09-01T08:59:34.499619+02:00",
     "start_time": "2017-09-01T08:59:34.112788"
    }
   },
   "outputs": [],
   "source": [
    "# seaborn also offers not just a histogram but also an kernel density enstimation\n",
    "sns.distplot(fifa.Rating,bins=50, color='#2ecc71')"
   ]
  },
  {
   "cell_type": "markdown",
   "metadata": {},
   "source": [
    "<p style=\"color:#f1c40f; font-size: 2em\">Exercise 2</p>\n",
    "\n",
    "<p style=\"background: #f1c40f; padding: 10px; color: #2c3e50\">EASY: Plot the distributions for <strong>Acceleration</strong>.</p>"
   ]
  },
  {
   "cell_type": "code",
   "execution_count": null,
   "metadata": {},
   "outputs": [],
   "source": [
    "# Answer 4"
   ]
  },
  {
   "cell_type": "markdown",
   "metadata": {},
   "source": [
    "<p style=\"background: #f1c40f; padding: 10px; color: #2c3e50\">ADVANCED: Plot two histograms, one on top of the other for <strong>Acceleration</strong> of Italian Players vs Brazilian players.</p>"
   ]
  },
  {
   "cell_type": "code",
   "execution_count": null,
   "metadata": {
    "ExecuteTime": {
     "end_time": "2017-09-01T09:11:00.218488+02:00",
     "start_time": "2017-09-01T09:11:00.216049"
    }
   },
   "outputs": [],
   "source": [
    "# Answer 5"
   ]
  },
  {
   "cell_type": "markdown",
   "metadata": {},
   "source": [
    "### Box Plots"
   ]
  },
  {
   "cell_type": "code",
   "execution_count": null,
   "metadata": {},
   "outputs": [],
   "source": [
    "#group by continent\n",
    "fifa.boxplot('Rating', by='Nationality', rot=90, figsize=(70, 10))"
   ]
  },
  {
   "cell_type": "code",
   "execution_count": null,
   "metadata": {
    "ExecuteTime": {
     "end_time": "2018-10-09T21:37:14.632184Z",
     "start_time": "2018-10-09T21:37:11.504769Z"
    },
    "scrolled": true
   },
   "outputs": [],
   "source": [
    "# Or, we can use seaborn, which has a nicer styling by default.\n",
    "fig = plt.figure(figsize=(30, 7))\n",
    "g = sns.boxplot(x=\"Nationality\", y=\"Acceleration\", data=fifa, palette=sns.color_palette(['#2ecc71']))\n",
    "plt.setp(g.get_xticklabels(), rotation=90);"
   ]
  },
  {
   "cell_type": "markdown",
   "metadata": {},
   "source": [
    "### Violin Plots"
   ]
  },
  {
   "cell_type": "code",
   "execution_count": null,
   "metadata": {
    "scrolled": true
   },
   "outputs": [],
   "source": [
    "# Violin plots do a better job of showing us the number of support points across the distribution\n",
    "fig = plt.figure(figsize=(30, 7))\n",
    "g = sns.violinplot(x=\"Club_Position\", y=\"Acceleration\", data=fifa, palette=sns.color_palette(['#2ecc71']))"
   ]
  },
  {
   "cell_type": "markdown",
   "metadata": {},
   "source": [
    "### Swarm Plots\n",
    "\n",
    "These plots the actual points, with some jitter to help us see how many points (roughly are around particular values)."
   ]
  },
  {
   "cell_type": "code",
   "execution_count": null,
   "metadata": {
    "ExecuteTime": {
     "end_time": "2018-10-09T21:49:43.608434Z",
     "start_time": "2018-10-09T21:49:42.865750Z"
    }
   },
   "outputs": [],
   "source": [
    "fig = plt.figure(figsize=(30, 7))\n",
    "g = sns.swarmplot(x=\"Club_Position\", y=\"Acceleration\", data=fifa.sample(1000), palette=sns.color_palette(['#2ecc71']))"
   ]
  },
  {
   "cell_type": "code",
   "execution_count": null,
   "metadata": {
    "ExecuteTime": {
     "end_time": "2018-10-09T21:49:39.394227Z",
     "start_time": "2018-10-09T21:49:36.264827Z"
    }
   },
   "outputs": [],
   "source": [
    "# Swarm Plots can also be overlaid on top of other plots.\n",
    "# We use a sample here, otherwise there are many points to plot.\n",
    "_sample = fifa.sample(2000)\n",
    "\n",
    "fig = plt.figure(figsize=(30, 7))\n",
    "g = sns.boxplot(x=\"Nationality\", y=\"Acceleration\", data=_sample, palette=sns.color_palette(['#2ecc71']))\n",
    "g = sns.swarmplot(x=\"Club_Position\", y=\"Acceleration\", data=_sample, palette=sns.color_palette(['#2ecc71']))\n",
    "plt.setp(g.get_xticklabels(), rotation=90);"
   ]
  },
  {
   "cell_type": "markdown",
   "metadata": {},
   "source": [
    "### Boxen Plots"
   ]
  },
  {
   "cell_type": "code",
   "execution_count": null,
   "metadata": {
    "scrolled": true
   },
   "outputs": [],
   "source": [
    "# Boxen Plots do an equally good job of showing us how many points on the Y axis by having a rectangle that scales\n",
    "# by the number of points in each bin.\n",
    "fig = plt.figure(figsize=(30, 7))\n",
    "g = sns.boxenplot(x=\"Club_Position\", y=\"Acceleration\", data=fifa, palette=sns.color_palette(['#2ecc71']))"
   ]
  },
  {
   "cell_type": "code",
   "execution_count": null,
   "metadata": {
    "scrolled": true
   },
   "outputs": [],
   "source": [
    "# Let's group by Country and Show Position Differences\n",
    "fig = plt.figure(figsize=(30, 7))\n",
    "g = sns.boxenplot(x=\"Nationality\", y=\"Finishing\", hue=\"Club_Position\", data=fifa[fifa.Nationality.isin(['Germany', 'Sweden', 'France', 'Switzerland', 'Israel'])], palette='viridis')"
   ]
  },
  {
   "cell_type": "markdown",
   "metadata": {},
   "source": [
    "<p style=\"color:#f1c40f; font-size: 2em\">Exercise 3</p>\n",
    "\n",
    "<p style=\"background: #f1c40f; padding: 10px; color: #2c3e50\">Easy: Create a plot grouped by Club_Position showing the distribution of acceleration across each Nationality?</p>"
   ]
  },
  {
   "cell_type": "code",
   "execution_count": null,
   "metadata": {},
   "outputs": [],
   "source": [
    "# Answer 6a"
   ]
  },
  {
   "cell_type": "markdown",
   "metadata": {},
   "source": [
    "<p style=\"background: #f1c40f; padding: 10px; color: #2c3e50\">ADVANCED: How can we sort the values of the box plots so that they are ordered by mean?</p>"
   ]
  },
  {
   "cell_type": "code",
   "execution_count": null,
   "metadata": {
    "ExecuteTime": {
     "end_time": "2017-09-01T09:20:22.529899+02:00",
     "start_time": "2017-09-01T09:20:19.284962"
    }
   },
   "outputs": [],
   "source": [
    "# Answer 6b"
   ]
  },
  {
   "cell_type": "markdown",
   "metadata": {},
   "source": [
    "## Plotting Joint Distributions\n",
    "\n",
    "We can also look at the correlations between variables in the traditional scatter plot. We can create them in a number of ways."
   ]
  },
  {
   "cell_type": "markdown",
   "metadata": {
    "ExecuteTime": {
     "end_time": "2017-08-31T19:46:19.529012+02:00",
     "start_time": "2017-08-31T19:46:19.526581"
    }
   },
   "source": [
    "### Scatter Plots"
   ]
  },
  {
   "cell_type": "code",
   "execution_count": null,
   "metadata": {},
   "outputs": [],
   "source": [
    "# The first way is using Matplotlib\n",
    "plt.figure(figsize=(20,6))\n",
    "plt.scatter(x=fifa['Acceleration'],y=fifa['Speed'], alpha=0.2)\n",
    "plt.title('Acceleration vs Speed')\n",
    "plt.xlabel('Acceleration')\n",
    "plt.ylabel('Speed')"
   ]
  },
  {
   "cell_type": "markdown",
   "metadata": {},
   "source": [
    "We can also create one image with many plots inside. Here we'll create a number of subplots using matplotlib.\n",
    "\n",
    "There are other ways of doing this too using subplot2grid for instance, but this is the easiest for now."
   ]
  },
  {
   "cell_type": "code",
   "execution_count": null,
   "metadata": {
    "ExecuteTime": {
     "end_time": "2018-10-09T21:51:47.415122Z",
     "start_time": "2018-10-09T21:51:46.374974Z"
    }
   },
   "outputs": [],
   "source": [
    "fig, axes = plt.subplots(ncols=2, nrows=2, figsize=(10,10))\n",
    "\n",
    "# We can access each subplot via a 2D Axes Array.\n",
    "# An easier way in which to access the axes is to use axes.ravel() which will turn the 2D array into a 1D array\n",
    "# and allow you to reference the first plot with axes[0], second with axes[1] and so on.\n",
    "\n",
    "axes[0,0].scatter(x=fifa['Acceleration'],y=fifa['Speed'])\n",
    "axes[0,0].title.set_text('Acceleration vs Speed')\n",
    "axes[0,0].set_ylabel('Speed')\n",
    "axes[0,0].set_xlabel('Acceleration')\n",
    "\n",
    "axes[0,1].scatter(x=fifa['Acceleration'],y=fifa['Age'])\n",
    "axes[0,1].title.set_text('Acceleration vs Age')\n",
    "axes[0,1].set_xlabel('Acceleration')\n",
    "axes[0,1].set_ylabel('Age')\n",
    "\n",
    "axes[1,1].scatter(x=fifa['Acceleration'],y=fifa['Balance'])\n",
    "axes[1,1].title.set_text('Acceleration vs Balance')\n",
    "axes[1,1].set_xlabel('Acceleration')\n",
    "axes[1,1].set_ylabel('Balance')\n",
    "\n",
    "\n",
    "axes[1,0].scatter(x=fifa['Acceleration'],y=fifa['Stamina'])\n",
    "axes[1,0].title.set_text('Acceleration vs Stamina')\n",
    "axes[1,0].set_xlabel('Acceleration')\n",
    "axes[1,0].set_ylabel('Stamina')\n",
    "\n",
    "plt.tight_layout()\n",
    "plt.show()"
   ]
  },
  {
   "cell_type": "code",
   "execution_count": null,
   "metadata": {},
   "outputs": [],
   "source": [
    "plt.figure(figsize=(15,15))\n",
    "g = sns.scatterplot(\"Ball_Control\", \"Dribbling\", hue='Club_Position', size='Rating', data=fifa, color=\"#555555\")"
   ]
  },
  {
   "cell_type": "markdown",
   "metadata": {},
   "source": [
    "### Joint Plots\n",
    "\n",
    "Seaborn offers a lot of functionality out of the box.\n",
    "For instance, the joint plot gives us both histograms for the distributions of each variable, and also the joint distribution in the form of a scatter plot."
   ]
  },
  {
   "cell_type": "code",
   "execution_count": null,
   "metadata": {
    "ExecuteTime": {
     "end_time": "2017-09-01T00:07:37.454560+02:00",
     "start_time": "2017-09-01T00:07:35.484913"
    }
   },
   "outputs": [],
   "source": [
    "sns.jointplot(\"Ball_Control\", \"Dribbling\", data=fifa, kind=\"reg\", color=\"#555555\", size=7)"
   ]
  },
  {
   "cell_type": "markdown",
   "metadata": {},
   "source": [
    "<p style=\"color:#f1c40f; font-size: 2em\">Exercise 4</p>\n",
    "\n",
    "<br/>\n",
    "<div style=\"background: #f1c40f; padding: 10px; color: #2c3e50\"><p>EASY: Which features are more correlated? </p>\n",
    "<ul>\n",
    "<li><strong>Reactions</strong> and <strong>Speed</strong>;</li>\n",
    "<li><strong>Reactions</strong> and <strong>Curve</strong>; or</li>\n",
    "<li><strong>Reactions</strong> and <strong>Composure</strong></li>\n",
    "</ul>\n",
    "</div>"
   ]
  },
  {
   "cell_type": "code",
   "execution_count": null,
   "metadata": {},
   "outputs": [],
   "source": [
    "# Answer 7\n"
   ]
  },
  {
   "cell_type": "markdown",
   "metadata": {},
   "source": [
    "## Multivariate Distributions\n",
    "\n",
    "So far, we've seen how we can we can visualize one or two variables and their distributions, but we often have many more variables. Therefore we'd like to be able to visualize more at once to discover areas of interest."
   ]
  },
  {
   "cell_type": "markdown",
   "metadata": {
    "ExecuteTime": {
     "end_time": "2017-09-01T09:03:18.738396+02:00",
     "start_time": "2017-09-01T09:03:18.735895"
    }
   },
   "source": [
    "### Scatter Plot Matrices"
   ]
  },
  {
   "cell_type": "code",
   "execution_count": null,
   "metadata": {
    "ExecuteTime": {
     "end_time": "2017-09-01T09:06:18.903298+02:00",
     "start_time": "2017-09-01T09:06:05.222327"
    }
   },
   "outputs": [],
   "source": [
    "# We can do this pretty easily with Seaborn, however, for very large data frames, \n",
    "# this is computationally expensive to plot. So we'll focus on one country, Spain!\n",
    "sns.pairplot(fifa[fifa.Nationality=='Spain'][['Composure', 'Long_Shots', \n",
    "                                              'Curve', 'Volleys', 'Jumping', \n",
    "                                              'Heading', 'Club_Position']], hue='Club_Position')"
   ]
  },
  {
   "cell_type": "markdown",
   "metadata": {},
   "source": [
    "<p style=\"color:#f1c40f; font-size: 2em\">Exercise 5</p>\n",
    "\n",
    "<br/>\n",
    "<div style=\"background: #f1c40f; padding: 10px; color: #2c3e50\"><p>EASY: This is a great example of a potentially nice visualization can be messed up by a terrible colour map.<br/>\n",
    "How would you go about improving this visualization?</p>\n",
    "</div>"
   ]
  },
  {
   "cell_type": "code",
   "execution_count": null,
   "metadata": {},
   "outputs": [],
   "source": [
    "# Answer 8"
   ]
  },
  {
   "cell_type": "markdown",
   "metadata": {},
   "source": [
    "Plotting individual points is cool, but there is a lot of noise in these plots. There are other techniques you can use to increase the saliency of content in the visualization. \n",
    "\n",
    "A key question to always ask yourself is, what do I really want to see? In this instance, I want to see which values are more correlated with each other. Therefore having all the points, while nice, will slow down my visualization, and add noise.\n",
    "\n",
    "So, with that in mind, let's look at visualizing this data in a more clean way using Kernel Density Estimations."
   ]
  },
  {
   "cell_type": "markdown",
   "metadata": {},
   "source": [
    "### KDE Matrices"
   ]
  },
  {
   "cell_type": "code",
   "execution_count": null,
   "metadata": {
    "ExecuteTime": {
     "end_time": "2017-08-31T20:28:10.810995+02:00",
     "start_time": "2017-08-31T20:28:00.519334"
    },
    "scrolled": false
   },
   "outputs": [],
   "source": [
    "g = sns.PairGrid(fifa[fifa.Nationality=='Spain'][['Composure', 'Long_Shots', 'Curve', 'Volleys', 'Jumping', 'Heading']])\n",
    "g.map_diag(sns.kdeplot)\n",
    "g.map_offdiag(sns.kdeplot, cmap=\"Blues_d\", n_levels=6);"
   ]
  },
  {
   "cell_type": "code",
   "execution_count": null,
   "metadata": {},
   "outputs": [],
   "source": [
    "g = sns.PairGrid(fifa[fifa.Nationality=='Spain'][['Composure', 'Long_Shots', 'Curve', 'Volleys', 'Jumping', 'Heading', 'Club_Position']].sample(500))\n",
    "g.map_upper(plt.scatter)\n",
    "g.map_lower(sns.kdeplot)\n",
    "g.map_diag(plt.hist);"
   ]
  },
  {
   "cell_type": "markdown",
   "metadata": {},
   "source": [
    "<div style=\"background: #f1c40f; padding: 10px; color: #2c3e50\"><p>EASY: Switch out my variables for some that you are interested in.<br/></p>\n",
    "</div>"
   ]
  },
  {
   "cell_type": "code",
   "execution_count": null,
   "metadata": {},
   "outputs": [],
   "source": [
    "# Answer 9"
   ]
  },
  {
   "cell_type": "markdown",
   "metadata": {},
   "source": [
    "### Parallel Coordinates\n",
    "\n",
    "My favourite! Perfect for visualizing many variables at once."
   ]
  },
  {
   "cell_type": "code",
   "execution_count": null,
   "metadata": {},
   "outputs": [],
   "source": [
    "spanish_players = fifa[(fifa.Nationality  == 'Spain') & (fifa.Club_Position.isin(['RF', 'CB', 'GK']))]\n",
    "string_columns = [fifa.columns[idx] for idx, data_type in enumerate(fifa.dtypes) if data_type == 'object']\n",
    "string_columns.pop(string_columns.index('Club_Position'))"
   ]
  },
  {
   "cell_type": "code",
   "execution_count": null,
   "metadata": {
    "scrolled": true
   },
   "outputs": [],
   "source": [
    "plt.figure(figsize=(30, 6))\n",
    "g = parallel_coordinates(spanish_players.drop(string_columns + ['Contract_Expiry'], axis=1), 'Club_Position', colormap='viridis')\n",
    "plt.legend(loc=(1,1))\n",
    "#plt.setp(g.get_xticklabels(), rotation=90)"
   ]
  },
  {
   "cell_type": "markdown",
   "metadata": {},
   "source": [
    "You can play with these if you want :D"
   ]
  },
  {
   "cell_type": "markdown",
   "metadata": {},
   "source": [
    "### RadVis \n",
    "\n",
    "Sometimes confusing, but I think they are neat!"
   ]
  },
  {
   "cell_type": "code",
   "execution_count": null,
   "metadata": {},
   "outputs": [],
   "source": [
    "fig, axes = plt.subplots(ncols=2, nrows=2, figsize = (20,8))\n",
    "\n",
    "plt.rcParams['axes.facecolor'] = 'white'\n",
    "plt.rcParams['axes.edgecolor'] = '#ecf0f1'\n",
    "\n",
    "countries = [['France', 'Spain'], ['England', 'Germany']]\n",
    "positions = ['RM', 'LM', 'CAM']\n",
    "n_rows = 2\n",
    "n_cols= 2\n",
    "\n",
    "for row in range(n_rows):\n",
    "    for col in range(n_cols):\n",
    "        ax = axes[row, col]\n",
    "        country=countries[row][col]\n",
    "\n",
    "        players_no_gk_sub_res = fifa[(fifa.Nationality  == country) & (fifa.Club_Position.isin(positions))]\n",
    "        radviz(players_no_gk_sub_res[['Shot_Power', 'Agility', 'Speed', 'Acceleration', 'Vision', 'Ball_Control', 'Club_Position']], 'Club_Position', colormap='viridis', ax=ax)\n",
    "        \n",
    "        ax.set_title(country)\n",
    "#         if(row != 0 & col !=1):\n",
    "#             legend = ax.legend()\n",
    "#             legend.remove()\n",
    "\n",
    "fig.tight_layout()"
   ]
  },
  {
   "cell_type": "markdown",
   "metadata": {},
   "source": [
    "## Global Correlation Detection\n",
    "\n",
    "While the techniques we've shown above are good for a few data points, they don't scale so well. What we often do instead is go for a global view of the data first in order to understand the relationships at a macro level.\n",
    "\n",
    "This is a very fast process to carry out in Pandas."
   ]
  },
  {
   "cell_type": "code",
   "execution_count": null,
   "metadata": {
    "ExecuteTime": {
     "end_time": "2017-08-31T20:10:25.627850+02:00",
     "start_time": "2017-08-31T20:10:25.538941"
    },
    "scrolled": true
   },
   "outputs": [],
   "source": [
    "# Correlation Tables for all variables can be quickly computed across a large dataframe\n",
    "fifa.corr()"
   ]
  },
  {
   "cell_type": "markdown",
   "metadata": {},
   "source": [
    "<p style=\"color:#f1c40f; font-size: 2em\">Exercise 6</p>\n",
    "\n",
    "<p style=\"background: #f1c40f; padding: 10px; color: #2c3e50\">MEDIUM: So, you can quickly calculate all feature correlations using Pandas, but reading all these numbers is a cognitively demanding task. How can we visualize such data? Hint, have a look at the seaborn gallery :)</p>"
   ]
  },
  {
   "cell_type": "code",
   "execution_count": null,
   "metadata": {},
   "outputs": [],
   "source": [
    "# Answer 10"
   ]
  },
  {
   "cell_type": "markdown",
   "metadata": {},
   "source": [
    "<p style=\"background: #f1c40f; padding: 10px; color: #2c3e50\">MEDIUM: Remember in our lectures how we showed it was easier for people to compare heatmaps when related information is placed together? <br/>What component in seaborn could help you do this?<br/>Can you find the surprising relationship using this plot?</p>"
   ]
  },
  {
   "cell_type": "code",
   "execution_count": null,
   "metadata": {
    "ExecuteTime": {
     "end_time": "2017-08-31T18:10:48.285611+02:00",
     "start_time": "2017-08-31T18:10:47.169405"
    }
   },
   "outputs": [],
   "source": [
    "# Answer 11"
   ]
  },
  {
   "cell_type": "markdown",
   "metadata": {},
   "source": [
    "> You're almost on the cusp of data science now :D"
   ]
  },
  {
   "cell_type": "markdown",
   "metadata": {},
   "source": [
    "<p style=\"background: #f1c40f; padding: 10px; color: #2c3e50\">ADVANCED: At the macro level, we always lose information, since we lose granularity. Can you partition the data on some level to see how correlations change?</p>"
   ]
  },
  {
   "cell_type": "code",
   "execution_count": null,
   "metadata": {
    "ExecuteTime": {
     "end_time": "2017-08-31T20:42:38.232250+02:00",
     "start_time": "2017-08-31T20:42:36.514665"
    }
   },
   "outputs": [],
   "source": [
    "# Answer 11\n",
    "# Hint, you can for instance, query the dataframe by some Nationalities, and plot each correlation heatmap in \n",
    "# a separate plot."
   ]
  },
  {
   "cell_type": "markdown",
   "metadata": {},
   "source": [
    "## Faceted Visualizations\n",
    "\n",
    "How you split the data can also provide many insights, and there are many ways in which we could split this data (which is why I chose it :))."
   ]
  },
  {
   "cell_type": "code",
   "execution_count": null,
   "metadata": {
    "ExecuteTime": {
     "end_time": "2017-08-31T18:03:28.244839+02:00",
     "start_time": "2017-08-31T18:03:23.361191"
    }
   },
   "outputs": [],
   "source": [
    "# or with linear regression\n",
    "g = sns.FacetGrid(fifa, col=\"Club_Position\", size=2, aspect=1, col_wrap=5, sharex=True, sharey=False)\n",
    "g.map(plt.hist, 'Acceleration', bins=20).add_legend()"
   ]
  },
  {
   "cell_type": "markdown",
   "metadata": {},
   "source": [
    "> Cool, right? You can play with this more"
   ]
  },
  {
   "cell_type": "code",
   "execution_count": null,
   "metadata": {
    "ExecuteTime": {
     "end_time": "2017-09-01T09:30:08.240716+02:00",
     "start_time": "2017-09-01T09:30:04.407701"
    }
   },
   "outputs": [],
   "source": [
    "g = sns.FacetGrid(fifa[fifa.Nationality.isin(['Spain', 'Italy', 'England', 'France'])], col=\"Club_Position\", \n",
    "                  hue=\"Nationality\", size=3, aspect=1, col_wrap=5, sharex=True, sharey=False)\n",
    "g.map(plt.scatter, 'Acceleration', 'Ball_Control').add_legend()"
   ]
  },
  {
   "cell_type": "markdown",
   "metadata": {},
   "source": [
    "## Building a Scouting System\n",
    "\n",
    "** Clustering with Seaborn (with scipy in the back office) **\n",
    "\n",
    "Seaborn also has some great tools available to help in some common tasks such as data clustering.\n",
    "\n",
    "With this in mind, we'll have a look at how we can use seaborn to scout players to find cheaper alternatives for the expensive ones :)"
   ]
  },
  {
   "cell_type": "code",
   "execution_count": null,
   "metadata": {
    "ExecuteTime": {
     "end_time": "2018-10-09T22:04:05.355092Z",
     "start_time": "2018-10-09T22:04:05.342740Z"
    }
   },
   "outputs": [],
   "source": [
    "# Pivot tables allow us to change how our data is formatted.\n",
    "# Here I want to have a row per player, where I have 4 features\n",
    "pivoted = fifa[fifa.Club_Position == 'ST'].pivot_table(index=['Name'], values=['Ball_Control', 'Reactions', 'Strength', 'Acceleration'])"
   ]
  },
  {
   "cell_type": "code",
   "execution_count": null,
   "metadata": {
    "ExecuteTime": {
     "end_time": "2018-10-09T22:04:06.078388Z",
     "start_time": "2018-10-09T22:04:06.069458Z"
    }
   },
   "outputs": [],
   "source": [
    "pivoted.head()"
   ]
  },
  {
   "cell_type": "code",
   "execution_count": null,
   "metadata": {
    "ExecuteTime": {
     "end_time": "2017-09-01T09:49:29.346535+02:00",
     "start_time": "2017-09-01T09:49:23.077216"
    },
    "scrolled": false
   },
   "outputs": [],
   "source": [
    "g = sns.clustermap(pivoted, z_score=1, figsize=(10,60), center=0, cmap=\"RdBu\")\n",
    "# plt.setp(g.ax_heatmap.get_yticklabels(), rotation=0);"
   ]
  },
  {
   "cell_type": "code",
   "execution_count": null,
   "metadata": {
    "ExecuteTime": {
     "end_time": "2018-10-09T22:03:19.272870Z",
     "start_time": "2018-10-09T22:03:19.265053Z"
    }
   },
   "outputs": [],
   "source": [
    "# We'll remove the string columns, since Parallel Coordinates etc. will not work with them\n",
    "string_columns = [fifa.columns[idx] for idx, data_type in enumerate(fifa.dtypes) if data_type == 'object']\n",
    "string_columns.pop(string_columns.index('Name'))\n",
    "filtered_data = fifa[fifa.Name.isin(['Romelu Lukaku', 'Artem Dzyuba', 'Diego Costa', 'Christian Benteke', 'Negredo', 'Nino', 'Alexandre Lacazette'])].drop(string_columns + ['Contract_Expiry'], axis=1)"
   ]
  },
  {
   "cell_type": "code",
   "execution_count": null,
   "metadata": {
    "ExecuteTime": {
     "end_time": "2018-10-09T22:03:20.541141Z",
     "start_time": "2018-10-09T22:03:19.727484Z"
    },
    "scrolled": true
   },
   "outputs": [],
   "source": [
    "fig = plt.figure(figsize=(30, 7))\n",
    "pc = parallel_coordinates(filtered_data, 'Name', colormap='viridis')\n",
    "plt.setp(pc.get_xticklabels(), rotation=90);"
   ]
  },
  {
   "cell_type": "code",
   "execution_count": null,
   "metadata": {
    "ExecuteTime": {
     "end_time": "2018-10-09T22:03:24.194886Z",
     "start_time": "2018-10-09T22:03:23.875110Z"
    }
   },
   "outputs": [],
   "source": [
    "plt.figure(figsize=(10, 6))\n",
    "radviz(filtered_data[['Stamina', 'Agility', 'Speed', 'Acceleration', 'Strength', 'Ball_Control', 'Aggression', 'Name']], 'Name',colormap='viridis')\n",
    "plt.legend(loc=(1,0.6)) "
   ]
  },
  {
   "cell_type": "markdown",
   "metadata": {},
   "source": []
  },
  {
   "cell_type": "markdown",
   "metadata": {
    "ExecuteTime": {
     "end_time": "2017-09-01T10:00:05.798611+02:00",
     "start_time": "2017-09-01T10:00:05.796258"
    }
   },
   "source": [
    "## Styling Matplotlib Plots\n",
    "\n",
    "By default, matplotlib is undoubtedly ugly. But, all is not lost, you can clean up matplotlib plots "
   ]
  },
  {
   "cell_type": "code",
   "execution_count": null,
   "metadata": {
    "ExecuteTime": {
     "end_time": "2017-09-01T10:00:15.900709+02:00",
     "start_time": "2017-09-01T10:00:15.896882"
    }
   },
   "outputs": [],
   "source": [
    "pd.set_option(\"display.max_columns\",None)\n",
    "plt.rcParams['axes.facecolor'] = 'white'\n",
    "plt.rcParams['axes.edgecolor'] = '#ecf0f1'\n",
    "plt.rcParams['grid.color'] = '#ecf0f1'\n",
    "plt.rcParams['axes.labelcolor'] = '#7f8c8d'\n",
    "plt.rcParams['text.color'] = '#7f8c8d'"
   ]
  },
  {
   "cell_type": "code",
   "execution_count": null,
   "metadata": {
    "ExecuteTime": {
     "end_time": "2017-09-01T10:01:12.685343+02:00",
     "start_time": "2017-09-01T10:01:12.370353"
    }
   },
   "outputs": [],
   "source": [
    "plt.figure(figsize=(10, 6))\n",
    "radviz(filtered_data[['Stamina', 'Agility', 'Speed', 'Acceleration', 'Strength', 'Ball_Control', 'Aggression', 'Name']], 'Name', colormap='Spectral')\n",
    "plt.legend(loc=(1,0.6)) "
   ]
  },
  {
   "cell_type": "markdown",
   "metadata": {},
   "source": [
    "> Wow, I hear you say, how beautiful :D"
   ]
  },
  {
   "cell_type": "markdown",
   "metadata": {},
   "source": [
    "## Your Own Exploratory Analysis"
   ]
  },
  {
   "cell_type": "markdown",
   "metadata": {
    "collapsed": true
   },
   "source": [
    "<p style=\"color:#f1c40f; font-size: 2em\">Exercise 7</p>\n",
    "\n",
    "<p style=\"background: #f1c40f; padding: 10px; color: #2c3e50\">OPTIONAL: Conduct your own interesting analysis.</p>"
   ]
  },
  {
   "cell_type": "code",
   "execution_count": null,
   "metadata": {},
   "outputs": [],
   "source": []
  }
 ],
 "metadata": {
  "hide_input": false,
  "kernelspec": {
   "display_name": "ffachurn_py3",
   "language": "python",
   "name": "ffachurn_py3"
  },
  "language_info": {
   "codemirror_mode": {
    "name": "ipython",
    "version": 3
   },
   "file_extension": ".py",
   "mimetype": "text/x-python",
   "name": "python",
   "nbconvert_exporter": "python",
   "pygments_lexer": "ipython3",
   "version": "3.5.2"
  },
  "toc": {
   "colors": {
    "hover_highlight": "#DAA520",
    "running_highlight": "#FF0000",
    "selected_highlight": "#FFD700"
   },
   "moveMenuLeft": true,
   "nav_menu": {
    "height": "354px",
    "width": "252px"
   },
   "navigate_menu": true,
   "number_sections": true,
   "sideBar": true,
   "skip_h1_title": false,
   "threshold": 4,
   "toc_cell": false,
   "toc_position": {
    "height": "906px",
    "left": "0px",
    "right": "1598px",
    "top": "106px",
    "width": "212px"
   },
   "toc_section_display": "block",
   "toc_window_display": true
  }
 },
 "nbformat": 4,
 "nbformat_minor": 1
}
